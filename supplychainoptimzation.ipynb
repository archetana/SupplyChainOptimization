{
  "cells": [
    {
      "cell_type": "markdown",
      "metadata": {
        "id": "GMpI27fBHNvV"
      },
      "source": [
        "**Generate Synthetic data**"
      ]
    },
    {
      "cell_type": "code",
      "source": [
        "import pandas as pd\n",
        "import numpy as np\n",
        "\n",
        "def generate_clean_data():\n",
        "    # Generating synthetic sales data\n",
        "    np.random.seed(42)\n",
        "    start_date = pd.to_datetime('2019-01-01')\n",
        "    end_date = pd.to_datetime('2022-12-31')\n",
        "    date_range = pd.date_range(start=start_date, end=end_date, freq='D')\n",
        "\n",
        "    sales_data = pd.DataFrame({\n",
        "        'Date': date_range,\n",
        "        'ProductID': np.random.randint(1, 101, size=len(date_range)),\n",
        "        'Region': np.random.choice(['North', 'South', 'East', 'West'], size=len(date_range)),\n",
        "        'QuantitySold': np.random.randint(10, 100, size=len(date_range))\n",
        "    })\n",
        "\n",
        "    # Generating synthetic external factors data\n",
        "    external_factors_data = pd.DataFrame({\n",
        "        'Date': date_range,\n",
        "        'EconomicIndicator': np.random.uniform(0.8, 1.2, size=len(date_range)),\n",
        "        'WeatherImpact': np.random.uniform(0.5, 1.5, size=len(date_range))\n",
        "    })\n",
        "\n",
        "    # Generating synthetic supplier data\n",
        "    supplier_data = pd.DataFrame({\n",
        "        'SupplierID': np.arange(1, 51),\n",
        "        'SupplierName': [f'Supplier_{i}' for i in range(1, 51)],\n",
        "        'ReliabilityScore': np.random.uniform(0.7, 1.0, size=50),\n",
        "        'CostEffectivenessScore': np.random.uniform(0.5, 1.0, size=50)\n",
        "    })\n",
        "\n",
        "    # Save to CSV\n",
        "    sales_data.to_csv('historical_sales_data.csv', index=False)\n",
        "    external_factors_data.to_csv('external_factors_data.csv', index=False)\n",
        "    supplier_data.to_csv('supplier_data.csv', index=False)\n",
        "\n",
        "    return sales_data, external_factors_data, supplier_data\n",
        "\n",
        "def main():\n",
        "    sales_data, external_factors_data, supplier_data = generate_clean_data()\n",
        "\n",
        "    # Displaying the first few rows of each generated dataset\n",
        "    print(\"Historical Sales Data:\")\n",
        "    print(sales_data.head())\n",
        "\n",
        "    print(\"\\nExternal Factors Data:\")\n",
        "    print(external_factors_data.head())\n",
        "\n",
        "    print(\"\\nSupplier Data:\")\n",
        "    print(supplier_data.head())\n",
        "\n",
        "if __name__ == \"__main__\":\n",
        "    main()\n"
      ],
      "metadata": {
        "id": "N_g3ibWTHO2h"
      },
      "execution_count": null,
      "outputs": []
    },
    {
      "cell_type": "markdown",
      "metadata": {
        "id": "Kyaw1AvtHNvY"
      },
      "source": [
        "# Dashboard app"
      ]
    },
    {
      "cell_type": "code",
      "execution_count": null,
      "metadata": {
        "ExecuteTime": {
          "end_time": "2023-07-19T15:56:47.229748Z",
          "start_time": "2023-07-19T15:56:35.675200Z"
        },
        "id": "vZ4Hel-kHNvY"
      },
      "outputs": [],
      "source": [
        "!pip install adbench\n",
        "!pip install --upgrade adbench"
      ]
    },
    {
      "cell_type": "code",
      "execution_count": null,
      "metadata": {
        "ExecuteTime": {
          "end_time": "2023-07-19T16:06:57.104897Z",
          "start_time": "2023-07-19T16:06:57.092930Z"
        },
        "id": "hisa1nFAHNvZ"
      },
      "outputs": [],
      "source": [
        "import gradio as gr\n",
        "import pandas as pd\n",
        "import numpy as np\n",
        "\n",
        "# Load synthetic data for demonstration\n",
        "sales_data = pd.read_csv('historical_sales_data.csv')\n",
        "external_factors_data = pd.read_csv('external_factors_data.csv')\n",
        "supplier_data = pd.read_csv('supplier_data.csv')\n",
        "\n",
        "# Function to simulate real-time monitoring and generate alerts\n",
        "def real_time_monitoring(product_id, region):\n",
        "    # Simulate data retrieval based on product_id and region\n",
        "    product_sales = sales_data[(sales_data['ProductID'] == int(product_id)) & (sales_data['Region'] == region)]\n",
        "    external_factors = external_factors_data[external_factors_data['Date'] == pd.to_datetime('today').strftime('%Y-%m-%d')]\n",
        "    supplier_info = supplier_data.sample()\n",
        "\n",
        "    # Calculate key metrics\n",
        "    total_sales = product_sales['QuantitySold'].sum()\n",
        "    economic_indicator = external_factors['EconomicIndicator'].values[0]\n",
        "    supplier_reliability = supplier_info['ReliabilityScore'].values[0]\n",
        "    supplier_cost_effectiveness = supplier_info['CostEffectivenessScore'].values[0]\n",
        "\n",
        "    # Define alert conditions\n",
        "    alert_conditions = {\n",
        "        'LowSales': total_sales < 50,\n",
        "        'HighEconomicIndicator': economic_indicator > 1.2,\n",
        "        'LowSupplierReliability': supplier_reliability < 0.8,\n",
        "        'HighSupplierCost': supplier_cost_effectiveness < 0.5\n",
        "    }\n",
        "\n",
        "    # Generate alerts based on conditions\n",
        "    alerts = {key: \"Alert!\" for key, condition in alert_conditions.items() if condition}\n",
        "\n",
        "    # Build dashboard display\n",
        "    dashboard_display = f\"\"\"\n",
        "    <h2>Real-Time Monitoring Dashboard</h2>\n",
        "    <p>Product ID: {product_id}</p>\n",
        "    <p>Region: {region}</p>\n",
        "    <p>Total Sales: {total_sales}</p>\n",
        "    <p>Economic Indicator: {economic_indicator}</p>\n",
        "    <p>Supplier Reliability: {supplier_reliability}</p>\n",
        "    <p>Supplier Cost Effectiveness: {supplier_cost_effectiveness}</p>\n",
        "    <h3>Alerts</h3>\n",
        "    <ul>\n",
        "    \"\"\"\n",
        "\n",
        "    # Add alerts to display\n",
        "    for alert, message in alerts.items():\n",
        "        dashboard_display += f\"<li>{alert}: {message}</li>\"\n",
        "\n",
        "    dashboard_display += \"</ul>\"\n",
        "\n",
        "    return dashboard_display\n",
        "\n",
        "# Gradio Interface\n",
        "iface_real_time_monitoring = gr.Interface(\n",
        "    fn=real_time_monitoring,\n",
        "    inputs=[\"text\", gr.Radio(['North', 'South', 'East', 'West'], label=\"Region\")],\n",
        "    outputs=gr.Textbox(),\n",
        "    live=True,\n",
        "    title=\"Real-Time Monitoring Dashboard\"\n",
        ")\n",
        "\n",
        "# Launch the Gradio app\n",
        "iface_real_time_monitoring.launch()\n"
      ]
    },
    {
      "cell_type": "markdown",
      "metadata": {
        "ExecuteTime": {
          "end_time": "2023-07-17T15:33:13.848925Z",
          "start_time": "2023-07-17T15:33:13.833498Z"
        },
        "id": "yINWMSpkHNvZ"
      },
      "source": [
        "**bold text**## Inventory Managment"
      ]
    },
    {
      "cell_type": "code",
      "execution_count": null,
      "metadata": {
        "ExecuteTime": {
          "end_time": "2023-07-19T14:44:03.627289Z",
          "start_time": "2023-07-19T14:26:41.551958Z"
        },
        "pycharm": {
          "name": "#%%\n"
        },
        "id": "Fcec8iDnHNva"
      },
      "outputs": [],
      "source": [
        "import gradio as gr\n",
        "import pandas as pd\n",
        "from sklearn.linear_model import LinearRegression\n",
        "from sklearn.preprocessing import OneHotEncoder\n",
        "from sklearn.pipeline import Pipeline\n",
        "\n",
        "# Load historical sales data\n",
        "sales_data = pd.read_csv('historical_sales_data.csv')\n",
        "\n",
        "# Feature engineering: Extracting features and target variable\n",
        "X = sales_data[['ProductID', 'Region']]\n",
        "y = sales_data['QuantitySold']\n",
        "\n",
        "# Convert categorical variables to dummy/indicator variables\n",
        "encoder = OneHotEncoder(drop='first')\n",
        "X_encoded = encoder.fit_transform(X[['Region']])\n",
        "X_encoded_df = pd.DataFrame(X_encoded.toarray(), columns=encoder.get_feature_names(['Region']))\n",
        "X = pd.concat([X[['ProductID']], X_encoded_df], axis=1)\n",
        "\n",
        "# Initialize and train a linear regression model\n",
        "model = Pipeline([\n",
        "    ('encoder', OneHotEncoder(drop='first')),\n",
        "    ('regressor', LinearRegression())\n",
        "])\n",
        "\n",
        "model.fit(X, y)\n",
        "\n",
        "# Function to calculate cost savings\n",
        "def calculate_cost_savings(product_id, region, current_inventory, lead_time):\n",
        "    # Predict quantity sold using the AI model\n",
        "    input_data = pd.DataFrame({'ProductID': [product_id], 'Region': [region]})\n",
        "    input_data_encoded = encoder.transform(input_data[['Region']])\n",
        "    input_data_encoded_df = pd.DataFrame(input_data_encoded.toarray(), columns=encoder.get_feature_names(['Region']))\n",
        "    input_data = pd.concat([input_data[['ProductID']], input_data_encoded_df], axis=1)\n",
        "    predicted_quantity = int(model.predict(input_data)[0])\n",
        "\n",
        "    # Calculate cost savings\n",
        "    current_demand = predicted_quantity\n",
        "    optimized_demand = int(model.predict(input_data)[0])\n",
        "    holding_cost_current = current_inventory * 1  # Assuming holding cost per unit is 1\n",
        "    holding_cost_optimized = min(current_inventory, optimized_demand * lead_time) * 1\n",
        "    cost_savings = holding_cost_current - holding_cost_optimized\n",
        "\n",
        "    return f\"Cost Savings: ${cost_savings}\"\n",
        "\n",
        "# Gradio Interface\n",
        "iface = gr.Interface(\n",
        "    fn=calculate_cost_savings,\n",
        "    inputs=[\"text\", gr.Radio(['North', 'South', 'East', 'West'], label=\"Region\"), \"text\", \"text\"],\n",
        "    outputs=\"text\",\n",
        "    live=True,\n",
        "    title=\"Inventory Management System\"\n",
        ")\n",
        "\n",
        "# Launch the Gradio app\n",
        "iface.launch()\n"
      ]
    },
    {
      "cell_type": "markdown",
      "metadata": {
        "id": "G2AezklsHNvb"
      },
      "source": [
        "**bold text**## Supplier Collaboration"
      ]
    },
    {
      "cell_type": "code",
      "execution_count": null,
      "metadata": {
        "id": "mLSUGgA4HNvb"
      },
      "outputs": [],
      "source": [
        "import gradio as gr\n",
        "import pandas as pd\n",
        "from sklearn.linear_model import LinearRegression\n",
        "from sklearn.preprocessing import StandardScaler\n",
        "from sklearn.pipeline import Pipeline\n",
        "\n",
        "# Load synthetic supplier data\n",
        "supplier_data = pd.read_csv('supplier_data.csv')\n",
        "\n",
        "# Feature engineering: Extracting features and target variables\n",
        "X = supplier_data[['SupplierID']]\n",
        "y_reliability = supplier_data['ReliabilityScore']\n",
        "y_cost_effectiveness = supplier_data['CostEffectivenessScore']\n",
        "\n",
        "# Initialize and train a linear regression model for reliability score\n",
        "reliability_model = Pipeline([\n",
        "    ('scaler', StandardScaler()),\n",
        "    ('regressor', LinearRegression())\n",
        "])\n",
        "\n",
        "reliability_model.fit(X, y_reliability)\n",
        "\n",
        "# Initialize and train a linear regression model for cost-effectiveness score\n",
        "cost_effectiveness_model = Pipeline([\n",
        "    ('scaler', StandardScaler()),\n",
        "    ('regressor', LinearRegression())\n",
        "])\n",
        "\n",
        "cost_effectiveness_model.fit(X, y_cost_effectiveness)\n",
        "\n",
        "# Function to simulate supplier collaboration and negotiation\n",
        "def supplier_collaboration(supplier_id):\n",
        "    reliability_score = reliability_model.predict([[supplier_id]])[0]\n",
        "    cost_effectiveness_score = cost_effectiveness_model.predict([[supplier_id]])[0]\n",
        "\n",
        "    # Simulating negotiation logic\n",
        "    negotiated_reliability = min(1, reliability_score + 0.1)  # Cap reliability increase at 10%\n",
        "    negotiated_cost_effectiveness = max(0, cost_effectiveness_score - 0.1)  # Reduce cost-effectiveness by 10%\n",
        "\n",
        "    return f\"Supplier ID: {supplier_id}\\nNegotiated Reliability Score: {negotiated_reliability:.2f}\\nNegotiated Cost-Effectiveness Score: {negotiated_cost_effectiveness:.2f}\"\n",
        "\n",
        "# Gradio Interface\n",
        "iface_supplier_collaboration = gr.Interface(\n",
        "    fn=supplier_collaboration,\n",
        "    inputs=\"text\",\n",
        "    outputs=\"text\",\n",
        "    live=True,\n",
        "    title=\"Supplier Collaboration Showcase\"\n",
        ")\n",
        "\n",
        "# Launch the Gradio app\n",
        "iface_supplier_collaboration.launch()\n"
      ]
    }
  ],
  "metadata": {
    "kernelspec": {
      "display_name": "Python 3",
      "language": "python",
      "name": "python3"
    },
    "language_info": {
      "codemirror_mode": {
        "name": "ipython",
        "version": 3
      },
      "file_extension": ".py",
      "mimetype": "text/x-python",
      "name": "python",
      "nbconvert_exporter": "python",
      "pygments_lexer": "ipython3",
      "version": "3.7.7"
    },
    "toc": {
      "base_numbering": 1,
      "nav_menu": {},
      "number_sections": true,
      "sideBar": true,
      "skip_h1_title": false,
      "title_cell": "Table of Contents",
      "title_sidebar": "Contents",
      "toc_cell": false,
      "toc_position": {},
      "toc_section_display": true,
      "toc_window_display": false
    },
    "varInspector": {
      "cols": {
        "lenName": 16,
        "lenType": 16,
        "lenVar": 40
      },
      "kernels_config": {
        "python": {
          "delete_cmd_postfix": "",
          "delete_cmd_prefix": "del ",
          "library": "var_list.py",
          "varRefreshCmd": "print(var_dic_list())"
        },
        "r": {
          "delete_cmd_postfix": ") ",
          "delete_cmd_prefix": "rm(",
          "library": "var_list.r",
          "varRefreshCmd": "cat(var_dic_list()) "
        }
      },
      "types_to_exclude": [
        "module",
        "function",
        "builtin_function_or_method",
        "instance",
        "_Feature"
      ],
      "window_display": false
    },
    "colab": {
      "provenance": []
    }
  },
  "nbformat": 4,
  "nbformat_minor": 0
}